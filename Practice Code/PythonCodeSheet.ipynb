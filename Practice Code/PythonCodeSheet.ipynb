{
 "cells": [
  {
   "cell_type": "code",
   "execution_count": 1,
   "metadata": {},
   "outputs": [
    {
     "name": "stdout",
     "output_type": "stream",
     "text": [
      "True\n"
     ]
    }
   ],
   "source": [
    "# Check if list contains integer x\n",
    "l = [3, 3, 4, 5, 2, 111, 5]\n",
    "print(111 in l) # True"
   ]
  },
  {
   "cell_type": "code",
   "execution_count": 2,
   "metadata": {},
   "outputs": [],
   "source": [
    "# Find duplicate number in integer list\n",
    "def find_duplicates(elements):\n",
    "    duplicates, seen = set(), set()\n",
    "    for element in elements:\n",
    "        if element in seen:\n",
    "            duplicates.add(element)\n",
    "        seen.add(element)\n",
    "    return list(duplicates)\n"
   ]
  },
  {
   "cell_type": "code",
   "execution_count": 3,
   "metadata": {},
   "outputs": [
    {
     "name": "stdout",
     "output_type": "stream",
     "text": [
      "True\n"
     ]
    }
   ],
   "source": [
    "# Check if two strings are anagrams\n",
    "def is_anagram(s1, s2):\n",
    "    return set(s1) == set(s2)\n",
    "print(is_anagram(\"elvis\", \"lives\")) # True"
   ]
  },
  {
   "cell_type": "code",
   "execution_count": 4,
   "metadata": {},
   "outputs": [
    {
     "name": "stdout",
     "output_type": "stream",
     "text": [
      "[0, 1, 2, 3, 4, 5, 6, 7, 8, 9]\n"
     ]
    }
   ],
   "source": [
    "# Remove all duplicates from list\n",
    "lst = list(range(10)) + list(range(10))\n",
    "lst = list(set(lst))\n",
    "print(lst)\n"
   ]
  },
  {
   "cell_type": "code",
   "execution_count": 5,
   "metadata": {},
   "outputs": [],
   "source": [
    "# Find pairs of integers in list so that their sum is equal to integer x\n",
    "def find_pairs(l, x):\n",
    "    pairs = []\n",
    "    for (i, el_1) in enumerate(l):\n",
    "        for (j, el_2) in enumerate(l[i+1:]):\n",
    "            if el_1 + el_2 == x:\n",
    "                pairs.append((el_1, el_2))\n",
    "    return pairs"
   ]
  },
  {
   "cell_type": "code",
   "execution_count": 6,
   "metadata": {},
   "outputs": [
    {
     "name": "stdout",
     "output_type": "stream",
     "text": [
      "True\n"
     ]
    }
   ],
   "source": [
    "# Checks if a string is a palingdrome\n",
    "def is_palindrome(phrase):\n",
    "    return phrase == phrase[::-1]\n",
    "print(is_palindrome(\"anna\"))"
   ]
  },
  {
   "cell_type": "code",
   "execution_count": 7,
   "metadata": {},
   "outputs": [
    {
     "data": {
      "text/plain": [
       "6"
      ]
     },
     "execution_count": 7,
     "metadata": {},
     "output_type": "execute_result"
    }
   ],
   "source": [
    "# Use list as stack, array, and queue\n",
    "\n",
    "# as a list ...\n",
    "l = [3, 4]\n",
    "l += [5, 6] # l = [3, 4, 5, 6]\n",
    "\n",
    "# ... as a stack ...\n",
    "l.append(10) # l = [4, 5, 6, 10]\n",
    "l.pop() # l = [4, 5, 6]\n",
    "\n",
    "# ... and as a queue\n",
    "l.insert(0, 5) # l = [5, 4, 5, 6]\n",
    "l.pop() # l = [5, 4, 5]\n"
   ]
  },
  {
   "cell_type": "code",
   "execution_count": 8,
   "metadata": {},
   "outputs": [
    {
     "name": "stdout",
     "output_type": "stream",
     "text": [
      "{50}\n"
     ]
    }
   ],
   "source": [
    "# Get missing number in [1...100]\n",
    "def get_missing_number(lst):\n",
    "    return set(range(lst[len(lst)-1])[1:]) - set(l)\n",
    "l = list(range(1,100))\n",
    "l.remove(50)\n",
    "print(get_missing_number(l)) "
   ]
  },
  {
   "cell_type": "code",
   "execution_count": 9,
   "metadata": {},
   "outputs": [],
   "source": [
    "# Compute the intersection of two lists\n",
    "def intersect(lst1, lst2):\n",
    "    res, lst2_copy = [], lst2[:]\n",
    "    for el in lst1:\n",
    "        if el in lst2_copy:\n",
    "            res.append(el)\n",
    "            lst2_copy.remove(el)\n",
    "    return res"
   ]
  },
  {
   "cell_type": "code",
   "execution_count": 10,
   "metadata": {},
   "outputs": [
    {
     "name": "stdout",
     "output_type": "stream",
     "text": [
      "888\n",
      "-11\n"
     ]
    }
   ],
   "source": [
    "# Find max and min in unsorted list\n",
    "l = [4, 3, 6, 3, 4, 888, 1, -11, 22, 3]\n",
    "print(max(l)) # 888\n",
    "print(min(l)) # -11"
   ]
  },
  {
   "cell_type": "code",
   "execution_count": 11,
   "metadata": {},
   "outputs": [
    {
     "name": "stdout",
     "output_type": "stream",
     "text": [
      "olleh\n"
     ]
    }
   ],
   "source": [
    "# Reverse string using recursion\n",
    "def reverse(string):\n",
    "    if len(string)<=1: return string\n",
    "    return reverse(string[1:])+string[0]\n",
    "print(reverse(\"hello\")) # olleh"
   ]
  },
  {
   "cell_type": "code",
   "execution_count": 12,
   "metadata": {},
   "outputs": [
    {
     "name": "stdout",
     "output_type": "stream",
     "text": [
      "1\n",
      "1\n",
      "2\n",
      "3\n",
      "5\n",
      "8\n",
      "13\n",
      "21\n",
      "34\n",
      "55\n"
     ]
    }
   ],
   "source": [
    "# Compute the first n Fibonacci numbers\n",
    "a, b = 0, 1\n",
    "n = 10\n",
    "for i in range(n):\n",
    "    print(b)\n",
    "    a, b = b, a+b\n",
    "# 1, 1, 2, 3, 5, 8, ...\n"
   ]
  },
  {
   "cell_type": "code",
   "execution_count": 13,
   "metadata": {},
   "outputs": [
    {
     "name": "stdout",
     "output_type": "stream",
     "text": [
      "[5, 22, 33, 44, 55, 77, 999]\n"
     ]
    }
   ],
   "source": [
    "# Sort list with Quicksort algorithm\n",
    "def qsort(L):\n",
    "    if L == []: return []\n",
    "    return qsort([x for x in L[1:] if x< L[0]]) + L[0:1] + qsort([x for x in L[1:] if x>=L[0]])\n",
    "lst = [44, 33, 22, 5, 77, 55, 999]\n",
    "print(qsort(lst))\n",
    "# [5, 22, 33, 44, 55, 77, 999]"
   ]
  },
  {
   "cell_type": "code",
   "execution_count": 14,
   "metadata": {},
   "outputs": [
    {
     "name": "stdout",
     "output_type": "stream",
     "text": [
      "{'nna', 'nan', 'ann'}\n"
     ]
    }
   ],
   "source": [
    "# Find all permutation s of string\n",
    "def get_permutations(w):\n",
    "    if len(w)<=1:\n",
    "        return set(w)\n",
    "    smaller = get_permutations(w[1:])\n",
    "    perms = set()\n",
    "    for x in smaller:\n",
    "        for pos in range(0,len(x)+1):\n",
    "            perm = x[:pos] + w[0] + x[pos:]\n",
    "            perms.add(perm)\n",
    "    return perms\n",
    "print(get_permutations(\"nan\"))\n",
    "# {'nna', 'ann', 'nan'}"
   ]
  }
 ],
 "metadata": {
  "interpreter": {
   "hash": "7ace2cd91ccec7c91bf09df760b9b22d452c9a6d6a2ccfc06e67ef2f1311ecf6"
  },
  "kernelspec": {
   "display_name": "Python 3.10.0 64-bit",
   "language": "python",
   "name": "python3"
  },
  "language_info": {
   "codemirror_mode": {
    "name": "ipython",
    "version": 3
   },
   "file_extension": ".py",
   "mimetype": "text/x-python",
   "name": "python",
   "nbconvert_exporter": "python",
   "pygments_lexer": "ipython3",
   "version": "3.10.0"
  },
  "orig_nbformat": 4
 },
 "nbformat": 4,
 "nbformat_minor": 2
}
