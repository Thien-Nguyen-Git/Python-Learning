{
 "cells": [
  {
   "cell_type": "code",
   "execution_count": 1,
   "metadata": {},
   "outputs": [
    {
     "name": "stdout",
     "output_type": "stream",
     "text": [
      "Second highest number is :  45\n"
     ]
    }
   ],
   "source": [
    "# Python program to find second largest\n",
    "# number in a list\n",
    " \n",
    "# list of numbers - length of\n",
    "# list should be at least 2\n",
    "list1 = [10, 20, 4, 45, 99]\n",
    " \n",
    "mx = max(list1[0],list1[1])\n",
    "secondmax = min(list1[0],list1[1])\n",
    "\n",
    "n = len(list1)\n",
    "for i in range(2,n):\n",
    "    if list1[i]>mx:\n",
    "        secondmax=mx\n",
    "        mx=list1[i]\n",
    "    elif list1[i]>secondmax and \\\n",
    "        mx != list1[i]:\n",
    "        secondmax=list1[i]\n",
    " \n",
    "print(\"Second highest number is : \",\\\n",
    "      str(secondmax))"
   ]
  },
  {
   "cell_type": "code",
   "execution_count": 21,
   "metadata": {},
   "outputs": [
    {
     "name": "stdout",
     "output_type": "stream",
     "text": [
      "Second largest element is: 95\n"
     ]
    }
   ],
   "source": [
    "# Python program to find largest\n",
    "# number in a list\n",
    " \n",
    "# list of numbers\n",
    "list1 = [10, 20, 4, 45, 99, 50, 95]\n",
    "# 4, 10, 20, 45, 50, 95, 99\n",
    "\n",
    "# sorting the list\n",
    "list1.sort()\n",
    " \n",
    "# printing the second last element\n",
    "print(\"Second largest element is:\", list1[-2])"
   ]
  },
  {
   "cell_type": "code",
   "execution_count": 18,
   "metadata": {},
   "outputs": [
    {
     "name": "stdout",
     "output_type": "stream",
     "text": [
      "45\n"
     ]
    }
   ],
   "source": [
    "# Python program to find second largest\n",
    "# number in a list\n",
    " \n",
    "# list of numbers\n",
    "list1 = [10, 20, 4, 45, 99]\n",
    "# 4, 10, 20, 45, 99\n",
    " \n",
    "# new_list is a set of list1\n",
    "new_list = set(list1)\n",
    "\n",
    "# removing the largest element from temp list\n",
    "new_list.remove(max(new_list))\n",
    " \n",
    "# elements in original list are not changed\n",
    "# print(list1)\n",
    " \n",
    "print(max(new_list))"
   ]
  },
  {
   "cell_type": "code",
   "execution_count": 4,
   "metadata": {},
   "outputs": [
    {
     "name": "stdout",
     "output_type": "stream",
     "text": [
      "Second largest element is: 19\n"
     ]
    }
   ],
   "source": [
    "# Python program to find second largest\n",
    "# number in a list\n",
    "\n",
    "# creating empty list\n",
    "list1 = []\n",
    "\n",
    "# asking number of elements to put in list\n",
    "num = int(input(\"Enter number of elements in list: \"))\n",
    "\n",
    "# iterating till num to append elements in list\n",
    "for i in range(1, num + 1):\n",
    "\tele = int(input(\"Enter elements: \"))\n",
    "\tlist1.append(ele)\n",
    "\n",
    "'''\n",
    "# sort the list\n",
    "list1.sort()\n",
    "\t\n",
    "# print second maximum element\n",
    "print(\"Second largest element is:\", list1[-2])\n",
    "\n",
    "'''\n",
    "\n",
    "# print second maximum element using sorted() method\n",
    "print(\"Second largest element is:\", sorted(list1)[-2])\n"
   ]
  },
  {
   "cell_type": "code",
   "execution_count": 7,
   "metadata": {},
   "outputs": [
    {
     "name": "stdout",
     "output_type": "stream",
     "text": [
      "Second highest number is the list is :  32\n"
     ]
    }
   ],
   "source": [
    "list1 = [11,22,1,2,5,67,21,32]\n",
    "#assuming max_ is equal to maximum of element at 0th and 1st index and second max is the minimum among them\n",
    "\n",
    "max_=max(list1[0],list1[1])\n",
    "secondmax=min(list1[0],list1[1])\n",
    "\n",
    "for i in range(2,len(list1)):\n",
    "   # if found element is greater than max_\n",
    "   if list1[i]>max_:\n",
    "      secondmax=max_\n",
    "      max_=list1[i]\n",
    "   #if found element is greator than secondmax\n",
    "   else:\n",
    "      if list1[i]>secondmax:\n",
    "         secondmax=list1[i]\n",
    "         \n",
    "print(\"Second highest number is the list is : \",str(secondmax))"
   ]
  },
  {
   "cell_type": "code",
   "execution_count": 9,
   "metadata": {},
   "outputs": [
    {
     "name": "stdout",
     "output_type": "stream",
     "text": [
      "Smallest element is: 99\n"
     ]
    }
   ],
   "source": [
    "# Find the smallest number in a list\n",
    "list1 = [101, 120, 104, 145, 99]\n",
    "# sorting using built-in function\n",
    "list1.sort()\n",
    "print(\"Smallest element is:\", list1[0])"
   ]
  },
  {
   "cell_type": "code",
   "execution_count": 10,
   "metadata": {},
   "outputs": [
    {
     "name": "stdout",
     "output_type": "stream",
     "text": [
      "Smallest element is: 99\n"
     ]
    }
   ],
   "source": [
    "list1 = [101, 120, 104, 145, 99]\n",
    "#using built-in min fucntion\n",
    "print(\"Smallest element is:\", min(list1))"
   ]
  }
 ],
 "metadata": {
  "interpreter": {
   "hash": "7ace2cd91ccec7c91bf09df760b9b22d452c9a6d6a2ccfc06e67ef2f1311ecf6"
  },
  "kernelspec": {
   "display_name": "Python 3.10.0 64-bit",
   "language": "python",
   "name": "python3"
  },
  "language_info": {
   "codemirror_mode": {
    "name": "ipython",
    "version": 3
   },
   "file_extension": ".py",
   "mimetype": "text/x-python",
   "name": "python",
   "nbconvert_exporter": "python",
   "pygments_lexer": "ipython3",
   "version": "3.10.0"
  },
  "orig_nbformat": 4
 },
 "nbformat": 4,
 "nbformat_minor": 2
}
