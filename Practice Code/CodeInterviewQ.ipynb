{
 "cells": [
  {
   "cell_type": "code",
   "execution_count": 1,
   "metadata": {},
   "outputs": [
    {
     "name": "stdout",
     "output_type": "stream",
     "text": [
      "Second highest number is :  45\n"
     ]
    }
   ],
   "source": [
    "# Python program to find second largest\n",
    "# number in a list\n",
    " \n",
    "# list of numbers - length of\n",
    "# list should be at least 2\n",
    "list1 = [10, 20, 4, 45, 99]\n",
    " \n",
    "mx = max(list1[0],list1[1])\n",
    "secondmax = min(list1[0],list1[1])\n",
    "\n",
    "n = len(list1)\n",
    "for i in range(2,n):\n",
    "    if list1[i]>mx:\n",
    "        secondmax=mx\n",
    "        mx=list1[i]\n",
    "    elif list1[i]>secondmax and \\\n",
    "        mx != list1[i]:\n",
    "        secondmax=list1[i]\n",
    " \n",
    "print(\"Second highest number is : \",\\\n",
    "      str(secondmax))"
   ]
  },
  {
   "cell_type": "code",
   "execution_count": 2,
   "metadata": {},
   "outputs": [
    {
     "name": "stdout",
     "output_type": "stream",
     "text": [
      "Second largest element is: 95\n",
      "Second smallest element is: 10\n"
     ]
    }
   ],
   "source": [
    "# Python program to find largest\n",
    "# number in a list\n",
    " \n",
    "# list of numbers\n",
    "list1 = [10, 20, 4, 45, 99, 50, 95]\n",
    "# 4, 10, 20, 45, 50, 95, 99\n",
    "\n",
    "# sorting the list\n",
    "list1.sort()\n",
    " \n",
    "# printing the second last element\n",
    "print(\"Second largest element is:\", list1[-2])\n",
    "print(\"Second smallest element is:\", list1[1])"
   ]
  },
  {
   "cell_type": "code",
   "execution_count": 18,
   "metadata": {},
   "outputs": [
    {
     "name": "stdout",
     "output_type": "stream",
     "text": [
      "45\n"
     ]
    }
   ],
   "source": [
    "# Python program to find second largest\n",
    "# number in a list\n",
    " \n",
    "# list of numbers\n",
    "list1 = [10, 20, 4, 45, 99]\n",
    "# 4, 10, 20, 45, 99\n",
    " \n",
    "# new_list is a set of list1\n",
    "new_list = set(list1)\n",
    "\n",
    "# removing the largest element from temp list\n",
    "new_list.remove(max(new_list))\n",
    " \n",
    "# elements in original list are not changed\n",
    "# print(list1)\n",
    " \n",
    "print(max(new_list))"
   ]
  },
  {
   "cell_type": "code",
   "execution_count": 4,
   "metadata": {},
   "outputs": [
    {
     "name": "stdout",
     "output_type": "stream",
     "text": [
      "Second largest element is: 19\n"
     ]
    }
   ],
   "source": [
    "# Python program to find second largest\n",
    "# number in a list\n",
    "\n",
    "# creating empty list\n",
    "list1 = []\n",
    "\n",
    "# asking number of elements to put in list\n",
    "num = int(input(\"Enter number of elements in list: \"))\n",
    "\n",
    "# iterating till num to append elements in list\n",
    "for i in range(1, num + 1):\n",
    "\tele = int(input(\"Enter elements: \"))\n",
    "\tlist1.append(ele)\n",
    "\n",
    "'''\n",
    "# sort the list\n",
    "list1.sort()\n",
    "\t\n",
    "# print second maximum element\n",
    "print(\"Second largest element is:\", list1[-2])\n",
    "\n",
    "'''\n",
    "\n",
    "# print second maximum element using sorted() method\n",
    "print(\"Second largest element is:\", sorted(list1)[-2])\n"
   ]
  },
  {
   "cell_type": "code",
   "execution_count": 7,
   "metadata": {},
   "outputs": [
    {
     "name": "stdout",
     "output_type": "stream",
     "text": [
      "Second highest number is the list is :  32\n"
     ]
    }
   ],
   "source": [
    "list1 = [11,22,1,2,5,67,21,32]\n",
    "#assuming max_ is equal to maximum of element at 0th and 1st index and second max is the minimum among them\n",
    "\n",
    "max_=max(list1[0],list1[1])\n",
    "secondmax=min(list1[0],list1[1])\n",
    "\n",
    "for i in range(2,len(list1)):\n",
    "   # if found element is greater than max_\n",
    "   if list1[i]>max_:\n",
    "      secondmax=max_\n",
    "      max_=list1[i]\n",
    "   #if found element is greator than secondmax\n",
    "   else:\n",
    "      if list1[i]>secondmax:\n",
    "         secondmax=list1[i]\n",
    "         \n",
    "print(\"Second highest number is the list is : \",str(secondmax))"
   ]
  },
  {
   "cell_type": "code",
   "execution_count": 9,
   "metadata": {},
   "outputs": [
    {
     "name": "stdout",
     "output_type": "stream",
     "text": [
      "Smallest element is: 99\n"
     ]
    }
   ],
   "source": [
    "# Find the smallest number in a list\n",
    "list1 = [101, 120, 104, 145, 99]\n",
    "# sorting using built-in function\n",
    "list1.sort()\n",
    "print(\"Smallest element is:\", list1[0])"
   ]
  },
  {
   "cell_type": "code",
   "execution_count": 10,
   "metadata": {},
   "outputs": [
    {
     "name": "stdout",
     "output_type": "stream",
     "text": [
      "Smallest element is: 99\n"
     ]
    }
   ],
   "source": [
    "list1 = [101, 120, 104, 145, 99]\n",
    "#using built-in min fucntion\n",
    "print(\"Smallest element is:\", min(list1))"
   ]
  },
  {
   "cell_type": "code",
   "execution_count": 3,
   "metadata": {},
   "outputs": [
    {
     "name": "stdout",
     "output_type": "stream",
     "text": [
      "-132\n",
      "543\n"
     ]
    }
   ],
   "source": [
    "# 1. Reverse Integer\n",
    "\n",
    "# Given an integer, return the integer with reversed digits.\n",
    "# Note: The integer could be either positive or negative.\n",
    "\n",
    "def solution(x):\n",
    "    string = str(x)\n",
    "    \n",
    "    if string[0] == '-':\n",
    "        return int('-'+string[:0:-1])\n",
    "    else:\n",
    "        return int(string[::-1])\n",
    "    \n",
    "print(solution(-231))\n",
    "print(solution(345))"
   ]
  },
  {
   "cell_type": "code",
   "execution_count": 4,
   "metadata": {},
   "outputs": [
    {
     "name": "stdout",
     "output_type": "stream",
     "text": [
      "4.2\n",
      "4.08\n"
     ]
    }
   ],
   "source": [
    "# 2. Average Words Length\n",
    "\n",
    "# For a given sentence, return the average word length. \n",
    "# Note: Remember to remove punctuation first.\n",
    "\n",
    "sentence1 = \"Hi all, my name is Tom...I am originally from Australia.\"\n",
    "sentence2 = \"I need to work very hard to learn more about algorithms in Python!\"\n",
    "\n",
    "def solution(sentence):\n",
    "    for p in \"!?',;.\":\n",
    "        sentence = sentence.replace(p, '')\n",
    "    words = sentence.split()\n",
    "    return round(sum(len(word) for word in words)/len(words),2)\n",
    "    \n",
    "print(solution(sentence1))\n",
    "print(solution(sentence2))"
   ]
  },
  {
   "cell_type": "code",
   "execution_count": 5,
   "metadata": {},
   "outputs": [
    {
     "name": "stdout",
     "output_type": "stream",
     "text": [
      "2200\n",
      "2200\n"
     ]
    }
   ],
   "source": [
    "# 3. Add Strings\n",
    "\n",
    "# Given two non-negative integers num1 and num2 represented as string, return the sum of num1 and num2.\n",
    "# You must not use any built-in BigInteger library or convert the inputs to integer directly.\n",
    "\n",
    "#Notes:\n",
    "#Both num1 and num2 contains only digits 0-9.\n",
    "#Both num1 and num2 does not contain any leading zero.\n",
    "\n",
    "num1 = '364'\n",
    "num2 = '1836'\n",
    "\n",
    "# Approach 1: \n",
    "def solution(num1,num2):\n",
    "    eval(num1) + eval(num2)\n",
    "    return str(eval(num1) + eval(num2))\n",
    "            \n",
    "print(solution(num1,num2))\n",
    "\n",
    "#Approach2 \n",
    "#Given a string of length one, the ord() function returns an integer representing the Unicode code point of the character \n",
    "#when the argument is a unicode object, or the value of the byte when the argument is an 8-bit string.\n",
    "\n",
    "def solution(num1, num2):\n",
    "    n1, n2 = 0, 0\n",
    "    m1, m2 = 10**(len(num1)-1), 10**(len(num2)-1)\n",
    "\n",
    "    for i in num1:\n",
    "        n1 += (ord(i) - ord(\"0\")) * m1 \n",
    "        m1 = m1//10        \n",
    "\n",
    "    for i in num2:\n",
    "        n2 += (ord(i) - ord(\"0\")) * m2\n",
    "        m2 = m2//10\n",
    "\n",
    "    return str(n1 + n2)\n",
    "print(solution(num1, num2))"
   ]
  },
  {
   "cell_type": "code",
   "execution_count": 5,
   "metadata": {},
   "outputs": [
    {
     "name": "stdout",
     "output_type": "stream",
     "text": [
      "True\n",
      "[1, 2, 2, 3, 3, 4, 5]\n",
      "{1, 2, 3, 4, 5}\n",
      "The original list is : [1, 3, 5, 6, 3, 5, 6, 1]\n",
      "List with duplicates removed: [1, 3, 5, 6]\n"
     ]
    }
   ],
   "source": [
    "a_list = [1,2,2,3,3,4,5]\n",
    "    \n",
    "a_set = set(a_list)\n",
    "contain_dup = len(a_list) != len(a_set)\n",
    "    \n",
    "print(contain_dup)\n",
    "print(a_list)\n",
    "print(a_set)\n",
    "\n",
    "test_list = [1, 3, 5, 6, 3, 5, 6, 1]\n",
    "print (\"The original list is : \" +  str(test_list))\n",
    "\n",
    "res = []\n",
    "for i in test_list:\n",
    "    if i not in res:\n",
    "        res.append(i)\n",
    "\n",
    "print(\"List with duplicates removed: \" + str(res))"
   ]
  }
 ],
 "metadata": {
  "interpreter": {
   "hash": "7ace2cd91ccec7c91bf09df760b9b22d452c9a6d6a2ccfc06e67ef2f1311ecf6"
  },
  "kernelspec": {
   "display_name": "Python 3.10.0 64-bit",
   "language": "python",
   "name": "python3"
  },
  "language_info": {
   "codemirror_mode": {
    "name": "ipython",
    "version": 3
   },
   "file_extension": ".py",
   "mimetype": "text/x-python",
   "name": "python",
   "nbconvert_exporter": "python",
   "pygments_lexer": "ipython3",
   "version": "3.10.0"
  },
  "orig_nbformat": 4
 },
 "nbformat": 4,
 "nbformat_minor": 2
}
